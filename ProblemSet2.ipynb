{
 "cells": [
  {
   "cell_type": "code",
   "execution_count": null,
   "id": "ab13e209",
   "metadata": {},
   "outputs": [],
   "source": [
    "When the function b() is first called, we access the variable named a using the global keyword. At this point the value of a is 0. We then call the function c() and initialize it to value a. The function c accepts a parameter that adds 2 to the parameter given and returns the sum\n",
    "\n",
    "Call 1 of b(): global a = 0, final value of a = 2\n",
    "Call 2 of b(): global a = 2, final value of a = 4\n",
    "call 3 of b(): global a = 4, final value of a = 6\n",
    "\n",
    "Hence 6, is displayed after calling b() 3 times\n"
   ]
  },
  {
   "cell_type": "code",
   "execution_count": 1,
   "id": "6dc545d5",
   "metadata": {},
   "outputs": [
    {
     "name": "stdout",
     "output_type": "stream",
     "text": [
      "File idterm.py not found.\n"
     ]
    }
   ],
   "source": [
    "def fileLength(filename):\n",
    "    try:\n",
    "        with open(filename,\"r\") as f:\n",
    "            print(len(f.readlines()))\n",
    "    except FileNotFoundError:\n",
    "        print(\"File {} not found.\".format(filename))\n",
    "    except OSError:\n",
    "        print(\"File {} not found.\".format(filename))\n",
    "fileLength(\"idterm.py\")\n"
   ]
  },
  {
   "cell_type": "code",
   "execution_count": 2,
   "id": "df2584c1",
   "metadata": {},
   "outputs": [
    {
     "name": "stdout",
     "output_type": "stream",
     "text": [
      "I am a Kangaroo located at coordinates (0, 0)\n",
      "['doll', 'firetruck', 'kitten']\n",
      "I am a Kangaroo located at coordinates (3, 0)\n"
     ]
    }
   ],
   "source": [
    "class Marsupial:\n",
    "    contents = []\n",
    "    def __init__(self) -> None:\n",
    "        pass\n",
    "    def put_in_pouch(self,item):\n",
    "        Marsupial.contents.append(item)\n",
    "    def pouch_contents(self):\n",
    "        print(Marsupial.contents)\n",
    "    def __str__(self):\n",
    "      return 'I am a Kangaroo located at coordinates (%d, %d)' % (self.x, self.y)\n",
    "class Kangaroo(Marsupial):\n",
    "    def __init__(self, x, y):\n",
    "      self.x = x\n",
    "      self.y = y\n",
    "    def jump(self, dx, dy):\n",
    "        self.x = self.x + dx\n",
    "        self.y = self.y + dy\n",
    "        return Kangaroo(self.x, self.y)\n",
    " \n",
    "k = Kangaroo(0,0)\n",
    "print(k)\n",
    "m = Marsupial() \n",
    "m.put_in_pouch('doll') \n",
    "m.put_in_pouch('firetruck') \n",
    "m.put_in_pouch('kitten') \n",
    "m.pouch_contents()\n",
    "k.jump(1,0) \n",
    "k.jump(1,0) \n",
    "k.jump(1,0) \n",
    "print(k)\n"
   ]
  },
  {
   "cell_type": "code",
   "execution_count": 3,
   "id": "13bf5180",
   "metadata": {},
   "outputs": [
    {
     "name": "stdout",
     "output_type": "stream",
     "text": [
      "1\n",
      "10\n",
      "5\n",
      "16\n",
      "8\n",
      "4\n",
      "2\n",
      "1\n"
     ]
    },
    {
     "data": {
      "text/plain": [
       "1"
      ]
     },
     "execution_count": 3,
     "metadata": {},
     "output_type": "execute_result"
    }
   ],
   "source": [
    "def collatz(num):\n",
    "    print(num)\n",
    "    if num == 1:\n",
    "        return num\n",
    "    if num % 2 == 0:\n",
    "        return collatz(num // 2)\n",
    "    return collatz(3 * num + 1)\n",
    "\n",
    "\n",
    "collatz(1)\n",
    "collatz(10)\n"
   ]
  },
  {
   "cell_type": "code",
   "execution_count": 4,
   "id": "7295d966",
   "metadata": {},
   "outputs": [
    {
     "name": "stdout",
     "output_type": "stream",
     "text": [
      "0\n",
      "1\n",
      "11\n",
      "1001\n"
     ]
    }
   ],
   "source": [
    "def binary(n):\n",
    "    s = str(n % 2)\n",
    "    if n >> 1 > 0:\n",
    "        s += binary(n >> 1)\n",
    "    return s\n",
    "\n",
    "print(binary(0))\n",
    "print(binary(1))\n",
    "print(binary(3))\n",
    "print(binary(9))\n"
   ]
  },
  {
   "cell_type": "code",
   "execution_count": 9,
   "id": "ccd344f8",
   "metadata": {},
   "outputs": [
    {
     "ename": "FileNotFoundError",
     "evalue": "[Errno 2] No such file or directory: 'w3c.html'",
     "output_type": "error",
     "traceback": [
      "\u001b[1;31m---------------------------------------------------------------------------\u001b[0m",
      "\u001b[1;31mFileNotFoundError\u001b[0m                         Traceback (most recent call last)",
      "\u001b[1;32m<ipython-input-9-8e8970f1be76>\u001b[0m in \u001b[0;36m<module>\u001b[1;34m\u001b[0m\n\u001b[0;32m     29\u001b[0m \u001b[1;33m\u001b[0m\u001b[0m\n\u001b[0;32m     30\u001b[0m \u001b[0mparser\u001b[0m \u001b[1;33m=\u001b[0m \u001b[0mHeadingParser\u001b[0m\u001b[1;33m(\u001b[0m\u001b[1;33m)\u001b[0m\u001b[1;33m\u001b[0m\u001b[1;33m\u001b[0m\u001b[0m\n\u001b[1;32m---> 31\u001b[1;33m \u001b[0minfile\u001b[0m \u001b[1;33m=\u001b[0m \u001b[0mopen\u001b[0m\u001b[1;33m(\u001b[0m\u001b[1;34m'w3c.html'\u001b[0m\u001b[1;33m)\u001b[0m\u001b[1;33m\u001b[0m\u001b[1;33m\u001b[0m\u001b[0m\n\u001b[0m\u001b[0;32m     32\u001b[0m \u001b[0mcontent\u001b[0m \u001b[1;33m=\u001b[0m \u001b[0minfile\u001b[0m\u001b[1;33m.\u001b[0m\u001b[0mread\u001b[0m\u001b[1;33m(\u001b[0m\u001b[1;33m)\u001b[0m\u001b[1;33m\u001b[0m\u001b[1;33m\u001b[0m\u001b[0m\n\u001b[0;32m     33\u001b[0m \u001b[0minfile\u001b[0m\u001b[1;33m.\u001b[0m\u001b[0mclose\u001b[0m\u001b[1;33m(\u001b[0m\u001b[1;33m)\u001b[0m\u001b[1;33m\u001b[0m\u001b[1;33m\u001b[0m\u001b[0m\n",
      "\u001b[1;31mFileNotFoundError\u001b[0m: [Errno 2] No such file or directory: 'w3c.html'"
     ]
    }
   ],
   "source": [
    "from html.parser import HTMLParser\n",
    "\n",
    "class HeadingParser(HTMLParser):\n",
    "    headers = ['h1', 'h2', 'h3', 'h4', 'h5', 'h6']\n",
    "\n",
    "    tag_holder = None\n",
    "\n",
    "    def handle_starttag(self, tag, attr):\n",
    "        if tag in self.headers:\n",
    "            self.tag_holder = tag\n",
    "\n",
    "    def handle_data(self, data):\n",
    "        if self.tag_holder == 'h1':\n",
    "            print(data)\n",
    "        elif self.tag_holder == 'h2':\n",
    "            print(\" \"+data)\n",
    "        elif self.tag_holder == 'h3':\n",
    "            print(\"  \"+data)\n",
    "        elif self.tag_holder == 'h4':\n",
    "            print(\"   \"+data)\n",
    "        elif self.tag_holder == 'h5':\n",
    "            print(\"    \"+data)\n",
    "        elif self.tag_holder == 'h6':\n",
    "            print(\"     \"+data)\n",
    "    \n",
    "          \n",
    "                \n",
    "\n",
    "\n",
    "parser = HeadingParser()\n",
    "infile = open('w3c.html')\n",
    "content = infile.read()\n",
    "infile.close()\n",
    "hp = HeadingParser()\n",
    "hp.feed(content)\n"
   ]
  },
  {
   "cell_type": "code",
   "execution_count": 10,
   "id": "2642164a",
   "metadata": {},
   "outputs": [],
   "source": [
    "from bs4 import BeautifulSoup\n",
    "import requests\n",
    "\n",
    "def webdir(url, depth, indent):\n",
    "\n",
    "    urls = []\n",
    " \n",
    "    req = requests.get(url)\n",
    "       \n",
    "    site = BeautifulSoup(req.text,\"html.parser\")\n",
    "       \n",
    "    for i in site.find_all(\"a\"):\n",
    "          \n",
    "        href = i.attrs['href']\n",
    "           \n",
    "        if href.startswith(\"/\"):\n",
    "            url = site+href\n",
    "            if url not in  urls and len(urls) > depth:\n",
    "                ind = \" \"\n",
    "                urls.append(url) \n",
    "                print((2*ind)+url)\n",
    "            \n",
    "                webdir(url)\n",
    "\n",
    "webdir('http://reed.cs.depaul.edu/lperkovic/csc242/test1.html', 2, 0)\n"
   ]
  },
  {
   "cell_type": "code",
   "execution_count": null,
   "id": "b3a1ea65",
   "metadata": {},
   "outputs": [],
   "source": [
    "a)SELECT Temperature FROM Table1;\n",
    "b)SELECT DISTINCT City FROM Table1;\n",
    "c)SELECT * FROM Table1 WHERE Country=’India’;\n",
    "d)SELECT * FROM Table1 WHERE Season=’Fall’;\n",
    "e)SELECT City, Country, Season FROM Table1 WHERE Rainfall BETWEEN 200 AND 400;\n",
    "f)SELECT City, Country FROM Table1 WHERE Season=’Fall’ AND Temperature > 20 ORDER BY Temperature ASC;\n",
    "g)SELECT SUM(Rainfall) FROM Table1 WHERE City=’Cairo’;\n",
    "h)Total Rainfall for each season is as follows:\n",
    "\n",
    "1.SELECT SUM(Rainfall) FROM Table1 WHERE Season=’Fall’;\n",
    "2.SELECT SUM(Rainfall) FROM Table1 WHERE Season=’Summer’;\n",
    "3.SELECT SUM(Rainfall) FROM Table1 WHERE Season=’Winter’;\n",
    "4.SELECT SUM(Rainfall) FROM Table1 WHERE Season=’Spring’;\n"
   ]
  },
  {
   "cell_type": "code",
   "execution_count": 6,
   "id": "36f09fcf",
   "metadata": {},
   "outputs": [
    {
     "name": "stdout",
     "output_type": "stream",
     "text": [
      "['THE', 'QUICK', 'BROWN', 'FOX', 'JUMPS', 'OVER', 'THE', 'LAZY', 'DOG']\n",
      "['the', 'quick', 'brown', 'fox', 'jumps', 'over', 'the', 'lazy', 'dog']\n",
      "[3, 5, 5, 3, 5, 4, 3, 4, 3]\n"
     ]
    }
   ],
   "source": [
    "def list_comprehension():\n",
    "    words = ['The', 'quick', 'brown', 'fox', 'jumps', 'over', 'the', 'lazy', 'dog'] \n",
    "\n",
    "    # a)\n",
    "    print([i.upper() for i in words])\n",
    "\n",
    "    # b)\n",
    "    print([i.lower() for i in words])\n",
    "\n",
    "    # c)\n",
    "    print([len(i) for i in words])\n",
    "\n",
    "\n",
    "\n",
    "list_comprehension()\n"
   ]
  }
 ],
 "metadata": {
  "kernelspec": {
   "display_name": "Python 3",
   "language": "python",
   "name": "python3"
  },
  "language_info": {
   "codemirror_mode": {
    "name": "ipython",
    "version": 3
   },
   "file_extension": ".py",
   "mimetype": "text/x-python",
   "name": "python",
   "nbconvert_exporter": "python",
   "pygments_lexer": "ipython3",
   "version": "3.8.8"
  }
 },
 "nbformat": 4,
 "nbformat_minor": 5
}
